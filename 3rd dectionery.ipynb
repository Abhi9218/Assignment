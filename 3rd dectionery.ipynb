{
 "cells": [
  {
   "cell_type": "code",
   "execution_count": 1,
   "id": "7a9c7296-b422-4c7d-8093-33922872fa6f",
   "metadata": {},
   "outputs": [
    {
     "data": {
      "text/plain": [
       "1"
      ]
     },
     "execution_count": 1,
     "metadata": {},
     "output_type": "execute_result"
    }
   ],
   "source": [
    "10%3"
   ]
  },
  {
   "cell_type": "code",
   "execution_count": 2,
   "id": "e6c2ead4-1d13-46a7-937b-c6b5694c3306",
   "metadata": {},
   "outputs": [],
   "source": [
    "d={}"
   ]
  },
  {
   "cell_type": "code",
   "execution_count": 3,
   "id": "46a7732b-6a25-48f4-a362-975a12e3e0f8",
   "metadata": {},
   "outputs": [
    {
     "data": {
      "text/plain": [
       "dict"
      ]
     },
     "execution_count": 3,
     "metadata": {},
     "output_type": "execute_result"
    }
   ],
   "source": [
    "type(d)"
   ]
  },
  {
   "cell_type": "code",
   "execution_count": 4,
   "id": "48f6ede5-ee46-45a6-94fc-544ebeb780bc",
   "metadata": {},
   "outputs": [],
   "source": [
    "d1={'key':'value'}"
   ]
  },
  {
   "cell_type": "code",
   "execution_count": 5,
   "id": "441ced1d-33cd-453e-b286-5f0ccd91d45d",
   "metadata": {},
   "outputs": [
    {
     "data": {
      "text/plain": [
       "{'key': 'value'}"
      ]
     },
     "execution_count": 5,
     "metadata": {},
     "output_type": "execute_result"
    }
   ],
   "source": [
    "d1"
   ]
  },
  {
   "cell_type": "code",
   "execution_count": 6,
   "id": "78656b43-e8a2-4e15-b3c1-a96cdd73786b",
   "metadata": {},
   "outputs": [],
   "source": [
    "d2={\"Name\":\"ABHISHEK PRSJSPSTI\",\"Email\":\"abhishekprajapti6387@gmail.com\"}"
   ]
  },
  {
   "cell_type": "code",
   "execution_count": 7,
   "id": "cdf26275-1d4a-4026-8f96-2644f9feb210",
   "metadata": {},
   "outputs": [
    {
     "data": {
      "text/plain": [
       "{'Name': 'ABHISHEK PRSJSPSTI', 'Email': 'abhishekprajapti6387@gmail.com'}"
      ]
     },
     "execution_count": 7,
     "metadata": {},
     "output_type": "execute_result"
    }
   ],
   "source": [
    "d2"
   ]
  },
  {
   "cell_type": "code",
   "execution_count": 14,
   "id": "940b344b-91aa-4bce-9d76-abe59dd00be4",
   "metadata": {},
   "outputs": [],
   "source": [
    "d3={234:\"Abhishek\",\"_sd\":\"amit\",True:2333142}"
   ]
  },
  {
   "cell_type": "code",
   "execution_count": 15,
   "id": "2fa74ab8-0151-444c-8b01-f7f72c528de8",
   "metadata": {},
   "outputs": [
    {
     "data": {
      "text/plain": [
       "{234: 'Abhishek', '_sd': 'amit', True: 2333142}"
      ]
     },
     "execution_count": 15,
     "metadata": {},
     "output_type": "execute_result"
    }
   ],
   "source": [
    "d3"
   ]
  },
  {
   "cell_type": "code",
   "execution_count": 17,
   "id": "14f8f38d-b825-4a79-8d97-14656bbe61ac",
   "metadata": {},
   "outputs": [
    {
     "data": {
      "text/plain": [
       "'Abhishek'"
      ]
     },
     "execution_count": 17,
     "metadata": {},
     "output_type": "execute_result"
    }
   ],
   "source": [
    "d3[234]"
   ]
  },
  {
   "cell_type": "code",
   "execution_count": 19,
   "id": "7f317076-be0f-4c9e-8dd2-5588420279b8",
   "metadata": {},
   "outputs": [
    {
     "data": {
      "text/plain": [
       "2333142"
      ]
     },
     "execution_count": 19,
     "metadata": {},
     "output_type": "execute_result"
    }
   ],
   "source": [
    "d3[1]"
   ]
  },
  {
   "cell_type": "code",
   "execution_count": 20,
   "id": "4df81a14-e6f0-4bec-a5d0-90a80c5febff",
   "metadata": {},
   "outputs": [],
   "source": [
    "d4={\"name\":\"abhi\",\"mail\":\"abhi\",\"name\":\"shudshn\"}"
   ]
  },
  {
   "cell_type": "code",
   "execution_count": 22,
   "id": "5bb67166-ee2b-4350-a3df-95a257c4bcb6",
   "metadata": {},
   "outputs": [
    {
     "data": {
      "text/plain": [
       "'shudshn'"
      ]
     },
     "execution_count": 22,
     "metadata": {},
     "output_type": "execute_result"
    }
   ],
   "source": [
    "d4[\"name\"]"
   ]
  },
  {
   "cell_type": "code",
   "execution_count": 23,
   "id": "775e27bc-12fb-4536-b004-5560e274832a",
   "metadata": {},
   "outputs": [
    {
     "data": {
      "text/plain": [
       "{'name': 'shudshn', 'mail': 'abhi'}"
      ]
     },
     "execution_count": 23,
     "metadata": {},
     "output_type": "execute_result"
    }
   ],
   "source": [
    "d4"
   ]
  },
  {
   "cell_type": "code",
   "execution_count": 27,
   "id": "5516db87-0fbc-493e-a20b-598e65805a7a",
   "metadata": {},
   "outputs": [],
   "source": [
    "d5={\"compny\":\"pwskill\",\"Abhi\":[\"Abhishek\",'amit','kundan']}"
   ]
  },
  {
   "cell_type": "code",
   "execution_count": 28,
   "id": "02d1fa53-5646-4c6a-9f1a-84a9da87fe40",
   "metadata": {},
   "outputs": [
    {
     "data": {
      "text/plain": [
       "{'compny': 'pwskill', 'Abhi': ['Abhishek', 'amit', 'kundan']}"
      ]
     },
     "execution_count": 28,
     "metadata": {},
     "output_type": "execute_result"
    }
   ],
   "source": [
    "d5"
   ]
  },
  {
   "cell_type": "code",
   "execution_count": 30,
   "id": "362b2652-764d-4897-b649-b04d1445b3b2",
   "metadata": {},
   "outputs": [
    {
     "data": {
      "text/plain": [
       "['Abhishek', 'amit', 'kundan']"
      ]
     },
     "execution_count": 30,
     "metadata": {},
     "output_type": "execute_result"
    }
   ],
   "source": [
    "d5[\"Abhi\"]"
   ]
  },
  {
   "cell_type": "code",
   "execution_count": 31,
   "id": "7821b9ce-3ac9-4085-8397-e7866b02bb63",
   "metadata": {},
   "outputs": [
    {
     "data": {
      "text/plain": [
       "'kundan'"
      ]
     },
     "execution_count": 31,
     "metadata": {},
     "output_type": "execute_result"
    }
   ],
   "source": [
    "d5[\"Abhi\"][-1]"
   ]
  },
  {
   "cell_type": "code",
   "execution_count": 34,
   "id": "9c048bad-4a4b-4625-93b2-ed47fccdaa5e",
   "metadata": {},
   "outputs": [],
   "source": [
    "d6={\"number\":[2,3,4,23,2,3,3],\"assignment\":(1,3,2,3,2,3),\"lunch date\":(1223),\"class time\":{\"wednesday\":122,\"monday\":1212}}"
   ]
  },
  {
   "cell_type": "code",
   "execution_count": 35,
   "id": "be703d14-0589-4607-affa-f12cf2400d30",
   "metadata": {},
   "outputs": [
    {
     "data": {
      "text/plain": [
       "{'number': [2, 3, 4, 23, 2, 3, 3],\n",
       " 'assignment': (1, 3, 2, 3, 2, 3),\n",
       " 'lunch date': 1223,\n",
       " 'class time': {'wednesday': 122, 'monday': 1212}}"
      ]
     },
     "execution_count": 35,
     "metadata": {},
     "output_type": "execute_result"
    }
   ],
   "source": [
    "d6"
   ]
  },
  {
   "cell_type": "code",
   "execution_count": 36,
   "id": "0ca25cb4-9198-4be8-8e32-1d33d883eb3b",
   "metadata": {},
   "outputs": [
    {
     "data": {
      "text/plain": [
       "1212"
      ]
     },
     "execution_count": 36,
     "metadata": {},
     "output_type": "execute_result"
    }
   ],
   "source": [
    "d6[\"class time\"][\"monday\"]"
   ]
  },
  {
   "cell_type": "code",
   "execution_count": 38,
   "id": "18351cd8-9561-4a8b-b7a7-fbc6d747e09f",
   "metadata": {},
   "outputs": [
    {
     "data": {
      "text/plain": [
       "(3, 2, 3, 2, 3, 1)"
      ]
     },
     "execution_count": 38,
     "metadata": {},
     "output_type": "execute_result"
    }
   ],
   "source": [
    "d6[\"assignment\"][::-1]"
   ]
  },
  {
   "cell_type": "code",
   "execution_count": 39,
   "id": "deb9a831-ea48-48a1-a5c1-099d6eba095b",
   "metadata": {},
   "outputs": [
    {
     "data": {
      "text/plain": [
       "23"
      ]
     },
     "execution_count": 39,
     "metadata": {},
     "output_type": "execute_result"
    }
   ],
   "source": [
    "d6[\"number\"][-4]"
   ]
  },
  {
   "cell_type": "code",
   "execution_count": 40,
   "id": "611f3493-3cc0-424e-b4ae-88924943f191",
   "metadata": {},
   "outputs": [
    {
     "data": {
      "text/plain": [
       "{'number': [2, 3, 4, 23, 2, 3, 3],\n",
       " 'assignment': (1, 3, 2, 3, 2, 3),\n",
       " 'lunch date': 1223,\n",
       " 'class time': {'wednesday': 122, 'monday': 1212}}"
      ]
     },
     "execution_count": 40,
     "metadata": {},
     "output_type": "execute_result"
    }
   ],
   "source": [
    "d6"
   ]
  },
  {
   "cell_type": "code",
   "execution_count": 43,
   "id": "99064996-d691-4895-b4ad-2c75f8938a26",
   "metadata": {},
   "outputs": [],
   "source": [
    "d6[\"mentor\"]=[\"Abhishek\",\"Amit\"]"
   ]
  },
  {
   "cell_type": "code",
   "execution_count": 44,
   "id": "8233a1c4-7d43-41e1-a2d1-978dd42bd10a",
   "metadata": {},
   "outputs": [
    {
     "data": {
      "text/plain": [
       "{'number': [2, 3, 4, 23, 2, 3, 3],\n",
       " 'assignment': (1, 3, 2, 3, 2, 3),\n",
       " 'lunch date': 1223,\n",
       " 'class time': {'wednesday': 122, 'monday': 1212},\n",
       " 'mentor': ['Abhishek', 'Amit']}"
      ]
     },
     "execution_count": 44,
     "metadata": {},
     "output_type": "execute_result"
    }
   ],
   "source": [
    "d6"
   ]
  },
  {
   "cell_type": "code",
   "execution_count": 45,
   "id": "e7ac8315-ef4a-4e0e-b0e5-e97a5998d595",
   "metadata": {},
   "outputs": [],
   "source": [
    "d6[\"ram\"]=[\"Hnauman\"]"
   ]
  },
  {
   "cell_type": "code",
   "execution_count": 46,
   "id": "1adaa8e0-fd44-4156-8cb2-4ffe3f0f07d9",
   "metadata": {},
   "outputs": [
    {
     "data": {
      "text/plain": [
       "{'number': [2, 3, 4, 23, 2, 3, 3],\n",
       " 'assignment': (1, 3, 2, 3, 2, 3),\n",
       " 'lunch date': 1223,\n",
       " 'class time': {'wednesday': 122, 'monday': 1212},\n",
       " 'mentor': ['Abhishek', 'Amit'],\n",
       " 'ram': ['Hnauman']}"
      ]
     },
     "execution_count": 46,
     "metadata": {},
     "output_type": "execute_result"
    }
   ],
   "source": [
    "d6"
   ]
  },
  {
   "cell_type": "code",
   "execution_count": 47,
   "id": "1a32d512-6409-4e36-8e3e-68513d3a78c8",
   "metadata": {},
   "outputs": [
    {
     "data": {
      "text/plain": [
       "{'number': [2, 3, 4, 23, 2, 3, 3],\n",
       " 'assignment': (1, 3, 2, 3, 2, 3),\n",
       " 'lunch date': 1223,\n",
       " 'class time': {'wednesday': 122, 'monday': 1212},\n",
       " 'mentor': ['Abhishek', 'Amit'],\n",
       " 'ram': ['Hnauman']}"
      ]
     },
     "execution_count": 47,
     "metadata": {},
     "output_type": "execute_result"
    }
   ],
   "source": [
    "d6"
   ]
  },
  {
   "cell_type": "code",
   "execution_count": 49,
   "id": "998dde24-3c4d-4174-a2ca-660bb5540c06",
   "metadata": {},
   "outputs": [],
   "source": [
    "del d6[\"mentor\"]"
   ]
  },
  {
   "cell_type": "code",
   "execution_count": 50,
   "id": "e962e0ed-e17c-42a9-96f2-a3959683fe16",
   "metadata": {},
   "outputs": [
    {
     "data": {
      "text/plain": [
       "{'number': [2, 3, 4, 23, 2, 3, 3],\n",
       " 'assignment': (1, 3, 2, 3, 2, 3),\n",
       " 'lunch date': 1223,\n",
       " 'class time': {'wednesday': 122, 'monday': 1212},\n",
       " 'ram': ['Hnauman']}"
      ]
     },
     "execution_count": 50,
     "metadata": {},
     "output_type": "execute_result"
    }
   ],
   "source": [
    " d6"
   ]
  },
  {
   "cell_type": "code",
   "execution_count": 52,
   "id": "13faabb2-9872-481b-90ae-a0fe07596d9e",
   "metadata": {},
   "outputs": [
    {
     "data": {
      "text/plain": [
       "dict_keys(['number', 'assignment', 'lunch date', 'class time', 'ram'])"
      ]
     },
     "execution_count": 52,
     "metadata": {},
     "output_type": "execute_result"
    }
   ],
   "source": [
    "d6.keys()"
   ]
  },
  {
   "cell_type": "code",
   "execution_count": 53,
   "id": "ee84c453-9ea5-4571-bc28-6deee5ad9e10",
   "metadata": {},
   "outputs": [
    {
     "data": {
      "text/plain": [
       "['number', 'assignment', 'lunch date', 'class time', 'ram']"
      ]
     },
     "execution_count": 53,
     "metadata": {},
     "output_type": "execute_result"
    }
   ],
   "source": [
    "list(d6.keys())"
   ]
  },
  {
   "cell_type": "code",
   "execution_count": 56,
   "id": "e96345de-6604-4eb2-b4b3-56e4c5733b07",
   "metadata": {},
   "outputs": [
    {
     "data": {
      "text/plain": [
       "dict_values([[2, 3, 4, 23, 2, 3, 3], (1, 3, 2, 3, 2, 3), 1223, {'wednesday': 122, 'monday': 1212}, ['Hnauman']])"
      ]
     },
     "execution_count": 56,
     "metadata": {},
     "output_type": "execute_result"
    }
   ],
   "source": [
    "d6.values()"
   ]
  },
  {
   "cell_type": "code",
   "execution_count": 57,
   "id": "642b72a0-71f6-462f-a1c4-f98c00b3dcce",
   "metadata": {},
   "outputs": [
    {
     "data": {
      "text/plain": [
       "[[2, 3, 4, 23, 2, 3, 3],\n",
       " (1, 3, 2, 3, 2, 3),\n",
       " 1223,\n",
       " {'wednesday': 122, 'monday': 1212},\n",
       " ['Hnauman']]"
      ]
     },
     "execution_count": 57,
     "metadata": {},
     "output_type": "execute_result"
    }
   ],
   "source": [
    "list(d6.values())"
   ]
  },
  {
   "cell_type": "code",
   "execution_count": 58,
   "id": "1ba50796-f920-4224-b5c7-5e9dd0486683",
   "metadata": {},
   "outputs": [
    {
     "data": {
      "text/plain": [
       "dict_items([('number', [2, 3, 4, 23, 2, 3, 3]), ('assignment', (1, 3, 2, 3, 2, 3)), ('lunch date', 1223), ('class time', {'wednesday': 122, 'monday': 1212}), ('ram', ['Hnauman'])])"
      ]
     },
     "execution_count": 58,
     "metadata": {},
     "output_type": "execute_result"
    }
   ],
   "source": [
    "d6.items()"
   ]
  },
  {
   "cell_type": "code",
   "execution_count": 60,
   "id": "15398058-ef26-42a1-81a6-4d481a4da196",
   "metadata": {},
   "outputs": [
    {
     "data": {
      "text/plain": [
       "[('number', [2, 3, 4, 23, 2, 3, 3]),\n",
       " ('assignment', (1, 3, 2, 3, 2, 3)),\n",
       " ('lunch date', 1223),\n",
       " ('class time', {'wednesday': 122, 'monday': 1212}),\n",
       " ('ram', ['Hnauman'])]"
      ]
     },
     "execution_count": 60,
     "metadata": {},
     "output_type": "execute_result"
    }
   ],
   "source": [
    "list(d6.items())"
   ]
  },
  {
   "cell_type": "code",
   "execution_count": 61,
   "id": "6319a013-f564-4bff-a887-967a1a520d8e",
   "metadata": {},
   "outputs": [
    {
     "data": {
      "text/plain": [
       "{'number': [2, 3, 4, 23, 2, 3, 3],\n",
       " 'assignment': (1, 3, 2, 3, 2, 3),\n",
       " 'lunch date': 1223,\n",
       " 'class time': {'wednesday': 122, 'monday': 1212},\n",
       " 'ram': ['Hnauman']}"
      ]
     },
     "execution_count": 61,
     "metadata": {},
     "output_type": "execute_result"
    }
   ],
   "source": [
    "d6"
   ]
  },
  {
   "cell_type": "code",
   "execution_count": 62,
   "id": "3f560828-9df2-45a8-89e2-76e597d3e874",
   "metadata": {},
   "outputs": [
    {
     "data": {
      "text/plain": [
       "dict_keys(['number', 'assignment', 'lunch date', 'class time', 'ram'])"
      ]
     },
     "execution_count": 62,
     "metadata": {},
     "output_type": "execute_result"
    }
   ],
   "source": [
    "d6.keys()"
   ]
  },
  {
   "cell_type": "code",
   "execution_count": 69,
   "id": "692961d9-5a77-4d71-a1d7-94a1acc06c36",
   "metadata": {},
   "outputs": [
    {
     "data": {
      "text/plain": [
       "{'number': [2, 3, 4, 23, 2, 3, 3],\n",
       " 'assignment': (1, 3, 2, 3, 2, 3),\n",
       " 'lunch date': 1223,\n",
       " 'class time': {'wednesday': 122, 'monday': 1212},\n",
       " 'ram': ['Hnauman']}"
      ]
     },
     "execution_count": 69,
     "metadata": {},
     "output_type": "execute_result"
    }
   ],
   "source": [
    "d6"
   ]
  },
  {
   "cell_type": "code",
   "execution_count": 72,
   "id": "d5aa0060-f653-4d17-90ac-40db67e129ee",
   "metadata": {},
   "outputs": [
    {
     "data": {
      "text/plain": [
       "1223"
      ]
     },
     "execution_count": 72,
     "metadata": {},
     "output_type": "execute_result"
    }
   ],
   "source": [
    "d6.pop(\"lunch date\")"
   ]
  },
  {
   "cell_type": "code",
   "execution_count": 73,
   "id": "d4f0ef85-a6a3-4cb1-9725-ca4e0084cd48",
   "metadata": {},
   "outputs": [
    {
     "data": {
      "text/plain": [
       "{'number': [2, 3, 4, 23, 2, 3, 3],\n",
       " 'assignment': (1, 3, 2, 3, 2, 3),\n",
       " 'class time': {'wednesday': 122, 'monday': 1212},\n",
       " 'ram': ['Hnauman']}"
      ]
     },
     "execution_count": 73,
     "metadata": {},
     "output_type": "execute_result"
    }
   ],
   "source": [
    "d6"
   ]
  },
  {
   "cell_type": "code",
   "execution_count": 1,
   "id": "0b31391f-fff7-498f-81b3-1c2a1f031207",
   "metadata": {},
   "outputs": [
    {
     "name": "stdin",
     "output_type": "stream",
     "text": [
      "Enter your marks 34\n"
     ]
    },
    {
     "name": "stdout",
     "output_type": "stream",
     "text": [
      "you will be part of failuar batch batch\n"
     ]
    }
   ],
   "source": [
    "marks=int(input(\"Enter your marks\"))\n",
    "if marks >=80 and marks<100:\n",
    "    print(\"you will be a part of A1 batch\")\n",
    "elif marks ==100:\n",
    "    print(\"you got supper A1 batch\")\n",
    "elif marks<80 and marks>=60:\n",
    "    print(\"you will be part of B1 batch\")\n",
    "elif marks<60 and marks>=40:\n",
    "    print(\"you will be part of B2 batch\")\n",
    "elif marks>100:\n",
    "    print(\"Aaukat se bahar marks put kar rahe ho\")\n",
    "else:\n",
    "    print(\"you will be part of failuar batch batch\")\n",
    "    \n",
    "    "
   ]
  },
  {
   "cell_type": "code",
   "execution_count": 7,
   "id": "5783f893-7f8d-4bb1-9fa5-cb80b4f14756",
   "metadata": {},
   "outputs": [
    {
     "name": "stdin",
     "output_type": "stream",
     "text": [
      "Enter price $ 900\n"
     ]
    },
    {
     "name": "stdout",
     "output_type": "stream",
     "text": [
      "i will  purchase\n",
      " but price is to much\n"
     ]
    }
   ],
   "source": [
    "price=int(input(\"Enter price $\"))\n",
    "if price<1000:\n",
    "    print(\"i will  purchase\")\n",
    "    if price>800 and price<1000:\n",
    "        print(\" but price is to much\")\n",
    "else:\n",
    "    print(\"i will not purchase\")\n",
    "          \n",
    "          "
   ]
  },
  {
   "cell_type": "code",
   "execution_count": 8,
   "id": "ba78730f-a19a-4a42-b3aa-a502567e581a",
   "metadata": {},
   "outputs": [],
   "source": [
    "l=[1,2,3,4,45,6,5,433,2]"
   ]
  },
  {
   "cell_type": "code",
   "execution_count": 12,
   "id": "915596c7-52fd-4ea9-afa0-69e4ff0ffa32",
   "metadata": {},
   "outputs": [
    {
     "data": {
      "text/plain": [
       "2"
      ]
     },
     "execution_count": 12,
     "metadata": {},
     "output_type": "execute_result"
    }
   ],
   "source": [
    "l[0]+1"
   ]
  },
  {
   "cell_type": "code",
   "execution_count": 13,
   "id": "7d153791-e13d-4e25-ab22-d09f178c3b3c",
   "metadata": {},
   "outputs": [
    {
     "data": {
      "text/plain": [
       "[1, 2, 3, 4, 45, 6, 5, 433, 2]"
      ]
     },
     "execution_count": 13,
     "metadata": {},
     "output_type": "execute_result"
    }
   ],
   "source": [
    "l"
   ]
  },
  {
   "cell_type": "code",
   "execution_count": 19,
   "id": "2aadc05d-1ffe-4fa5-bc48-b6c3d7eac723",
   "metadata": {},
   "outputs": [],
   "source": [
    "l.append(l[2]+2)"
   ]
  },
  {
   "cell_type": "code",
   "execution_count": 17,
   "id": "877aade6-fa83-4005-81cb-6bead082cbfb",
   "metadata": {},
   "outputs": [
    {
     "data": {
      "text/plain": [
       "[1, 2, 3, 4, 45, 6, 5, 433, 2, 5]"
      ]
     },
     "execution_count": 17,
     "metadata": {},
     "output_type": "execute_result"
    }
   ],
   "source": []
  },
  {
   "cell_type": "code",
   "execution_count": 2,
   "id": "2f8e7580-2047-4897-a203-971ef41de217",
   "metadata": {},
   "outputs": [],
   "source": [
    "l=[1,2,3,4,5,6,7,8,9,0]"
   ]
  },
  {
   "cell_type": "code",
   "execution_count": 13,
   "id": "a8eef7cd-3d81-4103-90b1-ef77b9b9e66c",
   "metadata": {},
   "outputs": [
    {
     "name": "stdout",
     "output_type": "stream",
     "text": [
      "2\n",
      "3\n",
      "4\n",
      "5\n",
      "6\n",
      "7\n",
      "8\n",
      "9\n",
      "10\n",
      "1\n"
     ]
    },
    {
     "data": {
      "text/plain": [
       "[2, 3, 4, 5, 6, 7, 8, 9, 10, 1]"
      ]
     },
     "execution_count": 13,
     "metadata": {},
     "output_type": "execute_result"
    }
   ],
   "source": [
    "l1=[]\n",
    "for i in l:\n",
    "    print(i+1) \n",
    "    l1.append(i+1)\n",
    "l1\n",
    "    "
   ]
  },
  {
   "cell_type": "code",
   "execution_count": 14,
   "id": "13213501-6456-4b33-918e-77dd8186cdf7",
   "metadata": {},
   "outputs": [],
   "source": [
    "l1=[\"amit\",\"abhishek\",\"pwskill\"]"
   ]
  },
  {
   "cell_type": "code",
   "execution_count": 15,
   "id": "ee5a05e8-a304-44d6-ba37-716dd6015790",
   "metadata": {},
   "outputs": [
    {
     "ename": "AttributeError",
     "evalue": "'list' object has no attribute 'upper'",
     "output_type": "error",
     "traceback": [
      "\u001b[0;31m---------------------------------------------------------------------------\u001b[0m",
      "\u001b[0;31mAttributeError\u001b[0m                            Traceback (most recent call last)",
      "Cell \u001b[0;32mIn[15], line 1\u001b[0m\n\u001b[0;32m----> 1\u001b[0m \u001b[43ml1\u001b[49m\u001b[38;5;241;43m.\u001b[39;49m\u001b[43mupper\u001b[49m()\n",
      "\u001b[0;31mAttributeError\u001b[0m: 'list' object has no attribute 'upper'"
     ]
    }
   ],
   "source": []
  },
  {
   "cell_type": "code",
   "execution_count": 20,
   "id": "eaae7314-e777-4f22-8e21-505717d446bb",
   "metadata": {},
   "outputs": [
    {
     "name": "stdout",
     "output_type": "stream",
     "text": [
      "amit\n",
      "abhishek\n",
      "pwskill\n"
     ]
    },
    {
     "data": {
      "text/plain": [
       "['AMIT', 'ABHISHEK', 'PWSKILL']"
      ]
     },
     "execution_count": 20,
     "metadata": {},
     "output_type": "execute_result"
    }
   ],
   "source": [
    "l2=[]\n",
    "for i in l1:\n",
    "    print(i)\n",
    "    l2.append(i.upper())\n",
    "l2\n"
   ]
  },
  {
   "cell_type": "code",
   "execution_count": 1,
   "id": "d1395d39-1309-4737-a163-19ad0500b062",
   "metadata": {},
   "outputs": [
    {
     "ename": "NameError",
     "evalue": "name 'l' is not defined",
     "output_type": "error",
     "traceback": [
      "\u001b[0;31m---------------------------------------------------------------------------\u001b[0m",
      "\u001b[0;31mNameError\u001b[0m                                 Traceback (most recent call last)",
      "Cell \u001b[0;32mIn[1], line 1\u001b[0m\n\u001b[0;32m----> 1\u001b[0m \u001b[43ml\u001b[49m\n",
      "\u001b[0;31mNameError\u001b[0m: name 'l' is not defined"
     ]
    }
   ],
   "source": [
    "l"
   ]
  },
  {
   "cell_type": "code",
   "execution_count": 2,
   "id": "c275076b-158e-4464-b874-b78b275d5f60",
   "metadata": {},
   "outputs": [],
   "source": [
    "l=[1,2,3,4,5,6,7,8,9,0]"
   ]
  },
  {
   "cell_type": "code",
   "execution_count": 5,
   "id": "217a3ea7-a511-4d67-a960-21343fbb07f5",
   "metadata": {},
   "outputs": [
    {
     "name": "stdout",
     "output_type": "stream",
     "text": [
      "2\n",
      "3\n",
      "4\n",
      "5\n",
      "6\n",
      "7\n",
      "8\n",
      "9\n",
      "10\n",
      "1\n"
     ]
    },
    {
     "data": {
      "text/plain": [
       "[2, 3, 4, 5, 6, 7, 8, 9, 10, 1]"
      ]
     },
     "execution_count": 5,
     "metadata": {},
     "output_type": "execute_result"
    }
   ],
   "source": [
    "l1=[]\n",
    "for o in l:\n",
    "    print(o+1)\n",
    "    l1.append(o+1)\n",
    "l1"
   ]
  },
  {
   "cell_type": "code",
   "execution_count": 6,
   "id": "7058f67a-e463-4cdf-b9a6-5d0cb737e732",
   "metadata": {},
   "outputs": [],
   "source": [
    "l2=[\"Amit\",\"Abhishek\",\"kundan\",\"Rishabh\"]"
   ]
  },
  {
   "cell_type": "code",
   "execution_count": 17,
   "id": "89d53a0d-c083-4fbc-8af7-3ed403b0d3ff",
   "metadata": {},
   "outputs": [
    {
     "name": "stdout",
     "output_type": "stream",
     "text": [
      "Amit\n",
      "Abhishek\n",
      "kundan\n",
      "Rishabh\n"
     ]
    }
   ],
   "source": [
    "l3=[]\n",
    "for i in l2:\n",
    "    print(i)\n",
    "    l3.append(i.upper())\n",
    "    "
   ]
  },
  {
   "cell_type": "code",
   "execution_count": 18,
   "id": "c56df613-918c-49c9-892c-d1d6d76a1e4a",
   "metadata": {},
   "outputs": [],
   "source": [
    "l=[1,2,3,4,5,5,\"abhi\",\"Amit\",23,3,4,2,2,\"abc\"]"
   ]
  },
  {
   "cell_type": "code",
   "execution_count": 20,
   "id": "ea9718b8-1fe9-430b-8ee6-5d11567b2180",
   "metadata": {},
   "outputs": [],
   "source": [
    "a1_num=[]\n",
    "a2_str=[]\n",
    "for i in l:\n",
    "    if type(i)==int or type(i)== float:\n",
    "        a1_num.append(i)\n",
    "    else:\n",
    "        a2_str.append(i)\n",
    "    "
   ]
  },
  {
   "cell_type": "code",
   "execution_count": 21,
   "id": "351dcf6b-51d7-4a3f-8e6d-ba1e9186d3b2",
   "metadata": {},
   "outputs": [
    {
     "data": {
      "text/plain": [
       "[1, 2, 3, 4, 5, 5, 23, 3, 4, 2, 2]"
      ]
     },
     "execution_count": 21,
     "metadata": {},
     "output_type": "execute_result"
    }
   ],
   "source": [
    "a1_num"
   ]
  },
  {
   "cell_type": "code",
   "execution_count": 22,
   "id": "b4ffee56-2e05-4d38-8981-2bd9c5c40712",
   "metadata": {},
   "outputs": [
    {
     "data": {
      "text/plain": [
       "['abhi', 'Amit', 'abc']"
      ]
     },
     "execution_count": 22,
     "metadata": {},
     "output_type": "execute_result"
    }
   ],
   "source": [
    "a2_str"
   ]
  },
  {
   "cell_type": "code",
   "execution_count": null,
   "id": "198df61c-5d31-4052-8ec9-c0eb7aff7b62",
   "metadata": {},
   "outputs": [],
   "source": []
  }
 ],
 "metadata": {
  "kernelspec": {
   "display_name": "Python 3 (ipykernel)",
   "language": "python",
   "name": "python3"
  },
  "language_info": {
   "codemirror_mode": {
    "name": "ipython",
    "version": 3
   },
   "file_extension": ".py",
   "mimetype": "text/x-python",
   "name": "python",
   "nbconvert_exporter": "python",
   "pygments_lexer": "ipython3",
   "version": "3.10.8"
  }
 },
 "nbformat": 4,
 "nbformat_minor": 5
}
